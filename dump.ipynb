{
 "cells": [
  {
   "cell_type": "code",
   "execution_count": null,
   "metadata": {
    "collapsed": true
   },
   "outputs": [],
   "source": [
    "dbfile = 'Z:\\shimmerspace\\Shimmer_Workspace\\Database\\\\1572537892\\\\1572537892.db'\n",
    "con = sql.connect(dbfile)\n",
    "cur = con.cursor()\n",
    "query = \"SELECT * FROM main.Calibrated_BT_000666f092e8\"\n",
    "shimmer_data = pd.read_sql_query(query, con)\n",
    "shimmer_data.tail()"
   ]
  }
 ],
 "metadata": {
  "kernelspec": {
   "display_name": "Python 3",
   "language": "python",
   "name": "python3"
  },
  "language_info": {
   "codemirror_mode": {
    "name": "ipython",
    "version": 2
   },
   "file_extension": ".py",
   "mimetype": "text/x-python",
   "name": "python",
   "nbconvert_exporter": "python",
   "pygments_lexer": "ipython2",
   "version": "2.7.6"
  }
 },
 "nbformat": 4,
 "nbformat_minor": 0
}
