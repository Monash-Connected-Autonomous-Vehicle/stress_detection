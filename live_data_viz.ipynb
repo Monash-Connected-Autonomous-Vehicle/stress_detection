{
 "cells": [
  {
   "cell_type": "markdown",
   "source": [
    "## Importing Libraries\n",
    "All of the libraries needed will be imported in this cell"
   ],
   "metadata": {
    "collapsed": false
   }
  },
  {
   "cell_type": "code",
   "execution_count": 2,
   "outputs": [],
   "source": [
    "import pandas as pd\n",
    "import plotly.express as exp\n",
    "import sqlite3 as db_sql"
   ],
   "metadata": {
    "collapsed": false
   }
  },
  {
   "cell_type": "markdown",
   "source": [
    "Specifying the location of the database, right now it will be a specified location. But, in the future we can make python to accept arguments from CMD/Shell commands to accept file path to redirect us to the correct db file."
   ],
   "metadata": {
    "collapsed": false
   }
  },
  {
   "cell_type": "code",
   "execution_count": 3,
   "outputs": [],
   "source": [
    "dbfile = \"resources/db/1679375961.db\""
   ],
   "metadata": {
    "collapsed": false
   }
  },
  {
   "cell_type": "markdown",
   "source": [
    "Connecting to the database"
   ],
   "metadata": {
    "collapsed": false
   }
  },
  {
   "cell_type": "code",
   "execution_count": 4,
   "outputs": [],
   "source": [
    "conx = db_sql.connect(dbfile)\n",
    "query = \"SELECT * FROM main.Calibrated_BT_000666f092e8\"\n",
    "gsr_data = pd.read_sql_query(query, conx)"
   ],
   "metadata": {
    "collapsed": false
   }
  },
  {
   "cell_type": "code",
   "execution_count": 5,
   "outputs": [
    {
     "data": {
      "text/plain": "            Id OFFSET      TimeStamp  GSR_Range  GSR_Conductance  \\\n164365  164366   None  692204.345703        3.0         1.139527   \n164366  164367   None  692208.251953        3.0         1.139527   \n164367  164368   None  692212.158203        3.0         1.139971   \n164368  164369   None  692216.064453        3.0         1.139527   \n164369  164370   None  692219.970703        3.0         1.139527   \n\n        F5437a_Int_A1_GSR  F5437a_PPG_A13  System_Timestamp  \n164365         877.556984     1838.095238      1.679403e+12  \n164366         877.556984     1837.362637      1.679403e+12  \n164367         877.215190     1837.362637      1.679403e+12  \n164368         877.556984     1836.630037      1.679403e+12  \n164369         877.556984     1836.630037      1.679403e+12  ",
      "text/html": "<div>\n<style scoped>\n    .dataframe tbody tr th:only-of-type {\n        vertical-align: middle;\n    }\n\n    .dataframe tbody tr th {\n        vertical-align: top;\n    }\n\n    .dataframe thead th {\n        text-align: right;\n    }\n</style>\n<table border=\"1\" class=\"dataframe\">\n  <thead>\n    <tr style=\"text-align: right;\">\n      <th></th>\n      <th>Id</th>\n      <th>OFFSET</th>\n      <th>TimeStamp</th>\n      <th>GSR_Range</th>\n      <th>GSR_Conductance</th>\n      <th>F5437a_Int_A1_GSR</th>\n      <th>F5437a_PPG_A13</th>\n      <th>System_Timestamp</th>\n    </tr>\n  </thead>\n  <tbody>\n    <tr>\n      <th>164365</th>\n      <td>164366</td>\n      <td>None</td>\n      <td>692204.345703</td>\n      <td>3.0</td>\n      <td>1.139527</td>\n      <td>877.556984</td>\n      <td>1838.095238</td>\n      <td>1.679403e+12</td>\n    </tr>\n    <tr>\n      <th>164366</th>\n      <td>164367</td>\n      <td>None</td>\n      <td>692208.251953</td>\n      <td>3.0</td>\n      <td>1.139527</td>\n      <td>877.556984</td>\n      <td>1837.362637</td>\n      <td>1.679403e+12</td>\n    </tr>\n    <tr>\n      <th>164367</th>\n      <td>164368</td>\n      <td>None</td>\n      <td>692212.158203</td>\n      <td>3.0</td>\n      <td>1.139971</td>\n      <td>877.215190</td>\n      <td>1837.362637</td>\n      <td>1.679403e+12</td>\n    </tr>\n    <tr>\n      <th>164368</th>\n      <td>164369</td>\n      <td>None</td>\n      <td>692216.064453</td>\n      <td>3.0</td>\n      <td>1.139527</td>\n      <td>877.556984</td>\n      <td>1836.630037</td>\n      <td>1.679403e+12</td>\n    </tr>\n    <tr>\n      <th>164369</th>\n      <td>164370</td>\n      <td>None</td>\n      <td>692219.970703</td>\n      <td>3.0</td>\n      <td>1.139527</td>\n      <td>877.556984</td>\n      <td>1836.630037</td>\n      <td>1.679403e+12</td>\n    </tr>\n  </tbody>\n</table>\n</div>"
     },
     "execution_count": 5,
     "metadata": {},
     "output_type": "execute_result"
    }
   ],
   "source": [
    "gsr_data.tail(5)"
   ],
   "metadata": {
    "collapsed": false
   }
  },
  {
   "cell_type": "code",
   "execution_count": 6,
   "outputs": [
    {
     "data": {
      "text/plain": "Id                     int64\nOFFSET                object\nTimeStamp            float64\nGSR_Range            float64\nGSR_Conductance      float64\nF5437a_Int_A1_GSR    float64\nF5437a_PPG_A13       float64\nSystem_Timestamp     float64\ndtype: object"
     },
     "execution_count": 6,
     "metadata": {},
     "output_type": "execute_result"
    }
   ],
   "source": [
    "gsr_data.dtypes"
   ],
   "metadata": {
    "collapsed": false
   }
  },
  {
   "cell_type": "code",
   "execution_count": 12,
   "outputs": [],
   "source": [
    "gsr_data.TimeStamp = gsr_data.TimeStamp.apply(lambda x: (x - gsr_data.TimeStamp[0])/60)"
   ],
   "metadata": {
    "collapsed": false
   }
  },
  {
   "cell_type": "code",
   "execution_count": 15,
   "outputs": [
    {
     "data": {
      "text/plain": "            Id OFFSET     TimeStamp  GSR_Range  GSR_Conductance  \\\n164365  164366   None  10867.578125        3.0         1.139527   \n164366  164367   None  10867.643229        3.0         1.139527   \n164367  164368   None  10867.708333        3.0         1.139971   \n164368  164369   None  10867.773438        3.0         1.139527   \n164369  164370   None  10867.838542        3.0         1.139527   \n\n        F5437a_Int_A1_GSR  F5437a_PPG_A13  System_Timestamp  \n164365         877.556984     1838.095238      1.679403e+12  \n164366         877.556984     1837.362637      1.679403e+12  \n164367         877.215190     1837.362637      1.679403e+12  \n164368         877.556984     1836.630037      1.679403e+12  \n164369         877.556984     1836.630037      1.679403e+12  ",
      "text/html": "<div>\n<style scoped>\n    .dataframe tbody tr th:only-of-type {\n        vertical-align: middle;\n    }\n\n    .dataframe tbody tr th {\n        vertical-align: top;\n    }\n\n    .dataframe thead th {\n        text-align: right;\n    }\n</style>\n<table border=\"1\" class=\"dataframe\">\n  <thead>\n    <tr style=\"text-align: right;\">\n      <th></th>\n      <th>Id</th>\n      <th>OFFSET</th>\n      <th>TimeStamp</th>\n      <th>GSR_Range</th>\n      <th>GSR_Conductance</th>\n      <th>F5437a_Int_A1_GSR</th>\n      <th>F5437a_PPG_A13</th>\n      <th>System_Timestamp</th>\n    </tr>\n  </thead>\n  <tbody>\n    <tr>\n      <th>164365</th>\n      <td>164366</td>\n      <td>None</td>\n      <td>10867.578125</td>\n      <td>3.0</td>\n      <td>1.139527</td>\n      <td>877.556984</td>\n      <td>1838.095238</td>\n      <td>1.679403e+12</td>\n    </tr>\n    <tr>\n      <th>164366</th>\n      <td>164367</td>\n      <td>None</td>\n      <td>10867.643229</td>\n      <td>3.0</td>\n      <td>1.139527</td>\n      <td>877.556984</td>\n      <td>1837.362637</td>\n      <td>1.679403e+12</td>\n    </tr>\n    <tr>\n      <th>164367</th>\n      <td>164368</td>\n      <td>None</td>\n      <td>10867.708333</td>\n      <td>3.0</td>\n      <td>1.139971</td>\n      <td>877.215190</td>\n      <td>1837.362637</td>\n      <td>1.679403e+12</td>\n    </tr>\n    <tr>\n      <th>164368</th>\n      <td>164369</td>\n      <td>None</td>\n      <td>10867.773438</td>\n      <td>3.0</td>\n      <td>1.139527</td>\n      <td>877.556984</td>\n      <td>1836.630037</td>\n      <td>1.679403e+12</td>\n    </tr>\n    <tr>\n      <th>164369</th>\n      <td>164370</td>\n      <td>None</td>\n      <td>10867.838542</td>\n      <td>3.0</td>\n      <td>1.139527</td>\n      <td>877.556984</td>\n      <td>1836.630037</td>\n      <td>1.679403e+12</td>\n    </tr>\n  </tbody>\n</table>\n</div>"
     },
     "execution_count": 15,
     "metadata": {},
     "output_type": "execute_result"
    }
   ],
   "source": [
    "gsr_data.tail(5)"
   ],
   "metadata": {
    "collapsed": false
   }
  }
 ],
 "metadata": {
  "kernelspec": {
   "display_name": "Python 3",
   "language": "python",
   "name": "python3"
  },
  "language_info": {
   "codemirror_mode": {
    "name": "ipython",
    "version": 2
   },
   "file_extension": ".py",
   "mimetype": "text/x-python",
   "name": "python",
   "nbconvert_exporter": "python",
   "pygments_lexer": "ipython2",
   "version": "2.7.6"
  }
 },
 "nbformat": 4,
 "nbformat_minor": 0
}
