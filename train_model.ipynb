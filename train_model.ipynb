{
 "cells": [
  {
   "cell_type": "markdown",
   "metadata": {},
   "source": [
    "# Importing Modules"
   ]
  },
  {
   "cell_type": "code",
   "execution_count": 1,
   "metadata": {
    "ExecuteTime": {
     "start_time": "2023-04-06T05:21:52.427638Z",
     "end_time": "2023-04-06T05:21:54.890333Z"
    }
   },
   "outputs": [],
   "source": [
    "# Data wrangling libraries\n",
    "import pandas as pd\n",
    "import numpy as np\n",
    "import cudf # GPU version of pandas\n",
    "from numba import cuda\n",
    "import os\n",
    "import datashader as ds\n",
    "\n",
    "# ML Libraries\n",
    "from cuml import KMeans # GPU version of scikit-learn\n",
    "\n",
    "# Plotting libraries\n",
    "import multiprocessing as mp\n",
    "\n",
    "# wrapper functions\n",
    "from resultHelperClass import Result\n",
    "from open_source_algo.cvxEDA import wrapperCVXEDA"
   ]
  },
  {
   "cell_type": "code",
   "execution_count": 27,
   "outputs": [
    {
     "name": "stdout",
     "output_type": "stream",
     "text": [
      "env: LD_LIBRARY_PATH=/usr/local/cuda-11.8/lib64\n"
     ]
    }
   ],
   "source": [
    "%env LD_LIBRARY_PATH /usr/local/cuda-11.8/lib64"
   ],
   "metadata": {
    "collapsed": false,
    "ExecuteTime": {
     "start_time": "2023-04-06T03:58:31.616610Z",
     "end_time": "2023-04-06T03:58:31.687617Z"
    }
   }
  },
  {
   "cell_type": "code",
   "execution_count": 28,
   "outputs": [
    {
     "data": {
      "text/plain": "'/usr/local/cuda-11.8/lib64'"
     },
     "execution_count": 28,
     "metadata": {},
     "output_type": "execute_result"
    }
   ],
   "source": [
    "%env LD_LIBRARY_PATH"
   ],
   "metadata": {
    "collapsed": false,
    "ExecuteTime": {
     "start_time": "2023-04-06T03:58:40.540286Z",
     "end_time": "2023-04-06T03:58:40.544583Z"
    }
   }
  },
  {
   "cell_type": "markdown",
   "metadata": {},
   "source": [
    "# Scary Movie Data"
   ]
  },
  {
   "cell_type": "code",
   "execution_count": 2,
   "metadata": {
    "ExecuteTime": {
     "start_time": "2023-04-06T05:22:03.366811Z",
     "end_time": "2023-04-06T05:22:05.078616Z"
    }
   },
   "outputs": [],
   "source": [
    "scary_movie_session_gpu = cudf.read_csv(\"resources/csv/default_exp_Session1_Shimmer_92E8_Calibrated_PC_Session2.csv\", delimiter=\"\\t\", header=1)"
   ]
  },
  {
   "cell_type": "code",
   "execution_count": 3,
   "metadata": {
    "ExecuteTime": {
     "start_time": "2023-04-06T05:22:05.849609Z",
     "end_time": "2023-04-06T05:22:05.855577Z"
    }
   },
   "outputs": [],
   "source": [
    "scary_movie_session_gpu.drop(columns=scary_movie_session_gpu.columns[-1], axis=1, inplace=True)"
   ]
  },
  {
   "cell_type": "code",
   "execution_count": 4,
   "metadata": {
    "ExecuteTime": {
     "start_time": "2023-04-06T05:22:06.729411Z",
     "end_time": "2023-04-06T05:22:06.744477Z"
    }
   },
   "outputs": [],
   "source": [
    "scary_movie_session_gpu.drop(index=0, axis=0, inplace=True)\n",
    "scary_movie_session_gpu.reset_index(drop=True, inplace=True)"
   ]
  },
  {
   "cell_type": "code",
   "execution_count": 5,
   "metadata": {
    "ExecuteTime": {
     "start_time": "2023-04-06T05:22:07.538361Z",
     "end_time": "2023-04-06T05:22:07.543843Z"
    }
   },
   "outputs": [],
   "source": [
    "scary_movie_session_gpu = scary_movie_session_gpu.astype(\"float64\")"
   ]
  },
  {
   "cell_type": "code",
   "execution_count": 6,
   "outputs": [],
   "source": [
    "scary_movie_session_gpu = cudf.from_pandas(scary_movie_session_gpu.to_pandas().apply(lambda x: x - scary_movie_session_gpu.loc[0, scary_movie_session_gpu.columns[0]]))"
   ],
   "metadata": {
    "collapsed": false,
    "ExecuteTime": {
     "start_time": "2023-04-06T05:22:08.528722Z",
     "end_time": "2023-04-06T05:22:08.567723Z"
    }
   }
  },
  {
   "cell_type": "code",
   "execution_count": 14,
   "metadata": {
    "ExecuteTime": {
     "start_time": "2023-04-06T03:31:41.281448Z",
     "end_time": "2023-04-06T03:31:41.641301Z"
    }
   },
   "outputs": [],
   "source": [
    "%%capture\n",
    "Fs = 150  # the frequency of the shimmer gsr+\n",
    "processor = 1\n",
    "pool = mp.Pool(mp.cpu_count())\n",
    "result = Result()\n",
    "# slow convex optimization for Electro-dermal activity (cvxEDA)\n",
    "pool.apply_async(wrapperCVXEDA, [scary_movie_session_gpu.Shimmer_92E8_GSR_Skin_Conductance_CAL.to_numpy(), 1 / Fs], callback=result.update_value)"
   ]
  },
  {
   "cell_type": "code",
   "execution_count": 7,
   "outputs": [],
   "source": [
    "cvs = ds.Canvas(plot_height=650, plot_width=800)"
   ],
   "metadata": {
    "collapsed": false,
    "ExecuteTime": {
     "start_time": "2023-04-06T05:22:10.885650Z",
     "end_time": "2023-04-06T05:22:10.902783Z"
    }
   }
  },
  {
   "cell_type": "code",
   "execution_count": 8,
   "outputs": [
    {
     "data": {
      "text/plain": "<xarray.DataArray (Shimmer_92E8_GSR_Skin_Conductance_CAL: 650,\n                   Shimmer_92E8_TimestampSync_Unix_CAL: 800)>\narray([[False, False, False, ..., False, False, False],\n       [False, False, False, ..., False, False, False],\n       [False, False, False, ..., False, False, False],\n       ...,\n       [False, False, False, ..., False, False, False],\n       [False, False, False, ..., False, False, False],\n       [False, False, False, ..., False, False, False]])\nCoordinates:\n  * Shimmer_92E8_TimestampSync_Unix_CAL    (Shimmer_92E8_TimestampSync_Unix_CAL) float64 ...\n  * Shimmer_92E8_GSR_Skin_Conductance_CAL  (Shimmer_92E8_GSR_Skin_Conductance_CAL) float64 ...",
      "text/html": "<div><svg style=\"position: absolute; width: 0; height: 0; overflow: hidden\">\n<defs>\n<symbol id=\"icon-database\" viewBox=\"0 0 32 32\">\n<path d=\"M16 0c-8.837 0-16 2.239-16 5v4c0 2.761 7.163 5 16 5s16-2.239 16-5v-4c0-2.761-7.163-5-16-5z\"></path>\n<path d=\"M16 17c-8.837 0-16-2.239-16-5v6c0 2.761 7.163 5 16 5s16-2.239 16-5v-6c0 2.761-7.163 5-16 5z\"></path>\n<path d=\"M16 26c-8.837 0-16-2.239-16-5v6c0 2.761 7.163 5 16 5s16-2.239 16-5v-6c0 2.761-7.163 5-16 5z\"></path>\n</symbol>\n<symbol id=\"icon-file-text2\" viewBox=\"0 0 32 32\">\n<path d=\"M28.681 7.159c-0.694-0.947-1.662-2.053-2.724-3.116s-2.169-2.030-3.116-2.724c-1.612-1.182-2.393-1.319-2.841-1.319h-15.5c-1.378 0-2.5 1.121-2.5 2.5v27c0 1.378 1.122 2.5 2.5 2.5h23c1.378 0 2.5-1.122 2.5-2.5v-19.5c0-0.448-0.137-1.23-1.319-2.841zM24.543 5.457c0.959 0.959 1.712 1.825 2.268 2.543h-4.811v-4.811c0.718 0.556 1.584 1.309 2.543 2.268zM28 29.5c0 0.271-0.229 0.5-0.5 0.5h-23c-0.271 0-0.5-0.229-0.5-0.5v-27c0-0.271 0.229-0.5 0.5-0.5 0 0 15.499-0 15.5 0v7c0 0.552 0.448 1 1 1h7v19.5z\"></path>\n<path d=\"M23 26h-14c-0.552 0-1-0.448-1-1s0.448-1 1-1h14c0.552 0 1 0.448 1 1s-0.448 1-1 1z\"></path>\n<path d=\"M23 22h-14c-0.552 0-1-0.448-1-1s0.448-1 1-1h14c0.552 0 1 0.448 1 1s-0.448 1-1 1z\"></path>\n<path d=\"M23 18h-14c-0.552 0-1-0.448-1-1s0.448-1 1-1h14c0.552 0 1 0.448 1 1s-0.448 1-1 1z\"></path>\n</symbol>\n</defs>\n</svg>\n<style>/* CSS stylesheet for displaying xarray objects in jupyterlab.\n *\n */\n\n:root {\n  --xr-font-color0: var(--jp-content-font-color0, rgba(0, 0, 0, 1));\n  --xr-font-color2: var(--jp-content-font-color2, rgba(0, 0, 0, 0.54));\n  --xr-font-color3: var(--jp-content-font-color3, rgba(0, 0, 0, 0.38));\n  --xr-border-color: var(--jp-border-color2, #e0e0e0);\n  --xr-disabled-color: var(--jp-layout-color3, #bdbdbd);\n  --xr-background-color: var(--jp-layout-color0, white);\n  --xr-background-color-row-even: var(--jp-layout-color1, white);\n  --xr-background-color-row-odd: var(--jp-layout-color2, #eeeeee);\n}\n\nhtml[theme=dark],\nbody[data-theme=dark],\nbody.vscode-dark {\n  --xr-font-color0: rgba(255, 255, 255, 1);\n  --xr-font-color2: rgba(255, 255, 255, 0.54);\n  --xr-font-color3: rgba(255, 255, 255, 0.38);\n  --xr-border-color: #1F1F1F;\n  --xr-disabled-color: #515151;\n  --xr-background-color: #111111;\n  --xr-background-color-row-even: #111111;\n  --xr-background-color-row-odd: #313131;\n}\n\n.xr-wrap {\n  display: block !important;\n  min-width: 300px;\n  max-width: 700px;\n}\n\n.xr-text-repr-fallback {\n  /* fallback to plain text repr when CSS is not injected (untrusted notebook) */\n  display: none;\n}\n\n.xr-header {\n  padding-top: 6px;\n  padding-bottom: 6px;\n  margin-bottom: 4px;\n  border-bottom: solid 1px var(--xr-border-color);\n}\n\n.xr-header > div,\n.xr-header > ul {\n  display: inline;\n  margin-top: 0;\n  margin-bottom: 0;\n}\n\n.xr-obj-type,\n.xr-array-name {\n  margin-left: 2px;\n  margin-right: 10px;\n}\n\n.xr-obj-type {\n  color: var(--xr-font-color2);\n}\n\n.xr-sections {\n  padding-left: 0 !important;\n  display: grid;\n  grid-template-columns: 150px auto auto 1fr 20px 20px;\n}\n\n.xr-section-item {\n  display: contents;\n}\n\n.xr-section-item input {\n  display: none;\n}\n\n.xr-section-item input + label {\n  color: var(--xr-disabled-color);\n}\n\n.xr-section-item input:enabled + label {\n  cursor: pointer;\n  color: var(--xr-font-color2);\n}\n\n.xr-section-item input:enabled + label:hover {\n  color: var(--xr-font-color0);\n}\n\n.xr-section-summary {\n  grid-column: 1;\n  color: var(--xr-font-color2);\n  font-weight: 500;\n}\n\n.xr-section-summary > span {\n  display: inline-block;\n  padding-left: 0.5em;\n}\n\n.xr-section-summary-in:disabled + label {\n  color: var(--xr-font-color2);\n}\n\n.xr-section-summary-in + label:before {\n  display: inline-block;\n  content: '►';\n  font-size: 11px;\n  width: 15px;\n  text-align: center;\n}\n\n.xr-section-summary-in:disabled + label:before {\n  color: var(--xr-disabled-color);\n}\n\n.xr-section-summary-in:checked + label:before {\n  content: '▼';\n}\n\n.xr-section-summary-in:checked + label > span {\n  display: none;\n}\n\n.xr-section-summary,\n.xr-section-inline-details {\n  padding-top: 4px;\n  padding-bottom: 4px;\n}\n\n.xr-section-inline-details {\n  grid-column: 2 / -1;\n}\n\n.xr-section-details {\n  display: none;\n  grid-column: 1 / -1;\n  margin-bottom: 5px;\n}\n\n.xr-section-summary-in:checked ~ .xr-section-details {\n  display: contents;\n}\n\n.xr-array-wrap {\n  grid-column: 1 / -1;\n  display: grid;\n  grid-template-columns: 20px auto;\n}\n\n.xr-array-wrap > label {\n  grid-column: 1;\n  vertical-align: top;\n}\n\n.xr-preview {\n  color: var(--xr-font-color3);\n}\n\n.xr-array-preview,\n.xr-array-data {\n  padding: 0 5px !important;\n  grid-column: 2;\n}\n\n.xr-array-data,\n.xr-array-in:checked ~ .xr-array-preview {\n  display: none;\n}\n\n.xr-array-in:checked ~ .xr-array-data,\n.xr-array-preview {\n  display: inline-block;\n}\n\n.xr-dim-list {\n  display: inline-block !important;\n  list-style: none;\n  padding: 0 !important;\n  margin: 0;\n}\n\n.xr-dim-list li {\n  display: inline-block;\n  padding: 0;\n  margin: 0;\n}\n\n.xr-dim-list:before {\n  content: '(';\n}\n\n.xr-dim-list:after {\n  content: ')';\n}\n\n.xr-dim-list li:not(:last-child):after {\n  content: ',';\n  padding-right: 5px;\n}\n\n.xr-has-index {\n  font-weight: bold;\n}\n\n.xr-var-list,\n.xr-var-item {\n  display: contents;\n}\n\n.xr-var-item > div,\n.xr-var-item label,\n.xr-var-item > .xr-var-name span {\n  background-color: var(--xr-background-color-row-even);\n  margin-bottom: 0;\n}\n\n.xr-var-item > .xr-var-name:hover span {\n  padding-right: 5px;\n}\n\n.xr-var-list > li:nth-child(odd) > div,\n.xr-var-list > li:nth-child(odd) > label,\n.xr-var-list > li:nth-child(odd) > .xr-var-name span {\n  background-color: var(--xr-background-color-row-odd);\n}\n\n.xr-var-name {\n  grid-column: 1;\n}\n\n.xr-var-dims {\n  grid-column: 2;\n}\n\n.xr-var-dtype {\n  grid-column: 3;\n  text-align: right;\n  color: var(--xr-font-color2);\n}\n\n.xr-var-preview {\n  grid-column: 4;\n}\n\n.xr-index-preview {\n  grid-column: 2 / 5;\n  color: var(--xr-font-color2);\n}\n\n.xr-var-name,\n.xr-var-dims,\n.xr-var-dtype,\n.xr-preview,\n.xr-attrs dt {\n  white-space: nowrap;\n  overflow: hidden;\n  text-overflow: ellipsis;\n  padding-right: 10px;\n}\n\n.xr-var-name:hover,\n.xr-var-dims:hover,\n.xr-var-dtype:hover,\n.xr-attrs dt:hover {\n  overflow: visible;\n  width: auto;\n  z-index: 1;\n}\n\n.xr-var-attrs,\n.xr-var-data,\n.xr-index-data {\n  display: none;\n  background-color: var(--xr-background-color) !important;\n  padding-bottom: 5px !important;\n}\n\n.xr-var-attrs-in:checked ~ .xr-var-attrs,\n.xr-var-data-in:checked ~ .xr-var-data,\n.xr-index-data-in:checked ~ .xr-index-data {\n  display: block;\n}\n\n.xr-var-data > table {\n  float: right;\n}\n\n.xr-var-name span,\n.xr-var-data,\n.xr-index-name div,\n.xr-index-data,\n.xr-attrs {\n  padding-left: 25px !important;\n}\n\n.xr-attrs,\n.xr-var-attrs,\n.xr-var-data,\n.xr-index-data {\n  grid-column: 1 / -1;\n}\n\ndl.xr-attrs {\n  padding: 0;\n  margin: 0;\n  display: grid;\n  grid-template-columns: 125px auto;\n}\n\n.xr-attrs dt,\n.xr-attrs dd {\n  padding: 0;\n  margin: 0;\n  float: left;\n  padding-right: 10px;\n  width: auto;\n}\n\n.xr-attrs dt {\n  font-weight: normal;\n  grid-column: 1;\n}\n\n.xr-attrs dt:hover span {\n  display: inline-block;\n  background: var(--xr-background-color);\n  padding-right: 10px;\n}\n\n.xr-attrs dd {\n  grid-column: 2;\n  white-space: pre-wrap;\n  word-break: break-all;\n}\n\n.xr-icon-database,\n.xr-icon-file-text2,\n.xr-no-icon {\n  display: inline-block;\n  vertical-align: middle;\n  width: 1em;\n  height: 1.5em !important;\n  stroke-width: 0;\n  stroke: currentColor;\n  fill: currentColor;\n}\n</style><pre class='xr-text-repr-fallback'>&lt;xarray.DataArray (Shimmer_92E8_GSR_Skin_Conductance_CAL: 650,\n                   Shimmer_92E8_TimestampSync_Unix_CAL: 800)&gt;\narray([[False, False, False, ..., False, False, False],\n       [False, False, False, ..., False, False, False],\n       [False, False, False, ..., False, False, False],\n       ...,\n       [False, False, False, ..., False, False, False],\n       [False, False, False, ..., False, False, False],\n       [False, False, False, ..., False, False, False]])\nCoordinates:\n  * Shimmer_92E8_TimestampSync_Unix_CAL    (Shimmer_92E8_TimestampSync_Unix_CAL) float64 ...\n  * Shimmer_92E8_GSR_Skin_Conductance_CAL  (Shimmer_92E8_GSR_Skin_Conductance_CAL) float64 ...</pre><div class='xr-wrap' style='display:none'><div class='xr-header'><div class='xr-obj-type'>xarray.DataArray</div><div class='xr-array-name'></div><ul class='xr-dim-list'><li><span class='xr-has-index'>Shimmer_92E8_GSR_Skin_Conductance_CAL</span>: 650</li><li><span class='xr-has-index'>Shimmer_92E8_TimestampSync_Unix_CAL</span>: 800</li></ul></div><ul class='xr-sections'><li class='xr-section-item'><div class='xr-array-wrap'><input id='section-691a9752-ac93-4bd7-8cd4-1a463dd096d1' class='xr-array-in' type='checkbox' checked><label for='section-691a9752-ac93-4bd7-8cd4-1a463dd096d1' title='Show/hide data repr'><svg class='icon xr-icon-database'><use xlink:href='#icon-database'></use></svg></label><div class='xr-array-preview xr-preview'><span>array([[False, False, False, ..., False, False, False],        [Fal...</span></div><div class='xr-array-data'><pre>array([[False, False, False, ..., False, False, False],\n       [False, False, False, ..., False, False, False],\n       [False, False, False, ..., False, False, False],\n       ...,\n       [False, False, False, ..., False, False, False],\n       [False, False, False, ..., False, False, False],\n       [False, False, False, ..., False, False, False]])</pre></div></div></li><li class='xr-section-item'><input id='section-af8d8eab-db9e-48f9-bf8d-470efcc9f2d4' class='xr-section-summary-in' type='checkbox'  checked><label for='section-af8d8eab-db9e-48f9-bf8d-470efcc9f2d4' class='xr-section-summary' >Coordinates: <span>(2)</span></label><div class='xr-section-inline-details'></div><div class='xr-section-details'><ul class='xr-var-list'><li class='xr-var-item'><div class='xr-var-name'><span class='xr-has-index'>Shimmer_92E8_TimestampSync_Unix_CAL</span></div><div class='xr-var-dims'>(Shimmer_92E8_TimestampSync_Unix_CAL)</div><div class='xr-var-dtype'>float64</div><div class='xr-var-preview xr-preview'>3.444e+03 1.033e+04 ... 5.507e+06</div><input id='attrs-39f1bfdb-a8a1-43df-98f7-0cf8b3880af3' class='xr-var-attrs-in' type='checkbox' disabled><label for='attrs-39f1bfdb-a8a1-43df-98f7-0cf8b3880af3' title='Show/Hide attributes'><svg class='icon xr-icon-file-text2'><use xlink:href='#icon-file-text2'></use></svg></label><input id='data-decf741b-7099-41b9-8716-109c50189ddf' class='xr-var-data-in' type='checkbox'><label for='data-decf741b-7099-41b9-8716-109c50189ddf' title='Show/Hide data repr'><svg class='icon xr-icon-database'><use xlink:href='#icon-database'></use></svg></label><div class='xr-var-attrs'><dl class='xr-attrs'></dl></div><div class='xr-var-data'><pre>array([3.444326e+03, 1.033298e+04, 1.722163e+04, ..., 5.493700e+06,\n       5.500589e+06, 5.507478e+06])</pre></div></li><li class='xr-var-item'><div class='xr-var-name'><span class='xr-has-index'>Shimmer_92E8_GSR_Skin_Conductance_CAL</span></div><div class='xr-var-dims'>(Shimmer_92E8_GSR_Skin_Conductance_CAL)</div><div class='xr-var-dtype'>float64</div><div class='xr-var-preview xr-preview'>-1.68e+12 -1.68e+12 ... -1.68e+12</div><input id='attrs-2d0f962b-0663-4df0-9653-301cc7ca6293' class='xr-var-attrs-in' type='checkbox' disabled><label for='attrs-2d0f962b-0663-4df0-9653-301cc7ca6293' title='Show/Hide attributes'><svg class='icon xr-icon-file-text2'><use xlink:href='#icon-file-text2'></use></svg></label><input id='data-8be8f44a-1d4f-4195-bf5f-96000e6a94f4' class='xr-var-data-in' type='checkbox'><label for='data-8be8f44a-1d4f-4195-bf5f-96000e6a94f4' title='Show/Hide data repr'><svg class='icon xr-icon-database'><use xlink:href='#icon-database'></use></svg></label><div class='xr-var-attrs'><dl class='xr-attrs'></dl></div><div class='xr-var-data'><pre>array([-1.680315e+12, -1.680315e+12, -1.680315e+12, ..., -1.680315e+12,\n       -1.680315e+12, -1.680315e+12])</pre></div></li></ul></div></li><li class='xr-section-item'><input id='section-f82b7b1c-e212-451d-93fd-4a57fa579443' class='xr-section-summary-in' type='checkbox'  ><label for='section-f82b7b1c-e212-451d-93fd-4a57fa579443' class='xr-section-summary' >Indexes: <span>(2)</span></label><div class='xr-section-inline-details'></div><div class='xr-section-details'><ul class='xr-var-list'><li class='xr-var-item'><div class='xr-index-name'><div>Shimmer_92E8_TimestampSync_Unix_CAL</div></div><div class='xr-index-preview'>PandasIndex</div><div></div><input id='index-574486c3-9994-4175-afa6-c3c366678797' class='xr-index-data-in' type='checkbox'/><label for='index-574486c3-9994-4175-afa6-c3c366678797' title='Show/Hide index repr'><svg class='icon xr-icon-database'><use xlink:href='#icon-database'></use></svg></label><div class='xr-index-data'><pre>PandasIndex(Float64Index([3444.3262615966796, 10332.978784790039,   17221.6313079834,\n               24110.28383117676,  30998.93635437012, 37887.588877563474,\n               44776.24140075684,  51664.89392395019, 58553.546447143555,\n               65442.19897033692,\n              ...\n               5445479.819584351,  5452368.472107544,  5459257.124630737,\n               5466145.777153931,  5473034.429677124,  5479923.082200318,\n               5486811.734723511,  5493700.387246704,  5500589.039769897,\n               5507477.692293091],\n             dtype=&#x27;float64&#x27;, name=&#x27;Shimmer_92E8_TimestampSync_Unix_CAL&#x27;, length=800))</pre></div></li><li class='xr-var-item'><div class='xr-index-name'><div>Shimmer_92E8_GSR_Skin_Conductance_CAL</div></div><div class='xr-index-preview'>PandasIndex</div><div></div><input id='index-bd783642-3c7f-4e47-a5d3-b3b0bdfd68b8' class='xr-index-data-in' type='checkbox'/><label for='index-bd783642-3c7f-4e47-a5d3-b3b0bdfd68b8' title='Show/Hide index repr'><svg class='icon xr-icon-database'><use xlink:href='#icon-database'></use></svg></label><div class='xr-index-data'><pre>PandasIndex(Float64Index([-1680314569176.3455, -1680314569176.3406, -1680314569176.3357,\n              -1680314569176.3308,  -1680314569176.326,  -1680314569176.321,\n              -1680314569176.3162, -1680314569176.3113, -1680314569176.3064,\n              -1680314569176.3015,\n              ...\n              -1680314569173.2065, -1680314569173.2017, -1680314569173.1968,\n               -1680314569173.192,  -1680314569173.187, -1680314569173.1821,\n              -1680314569173.1772, -1680314569173.1724, -1680314569173.1675,\n              -1680314569173.1624],\n             dtype=&#x27;float64&#x27;, name=&#x27;Shimmer_92E8_GSR_Skin_Conductance_CAL&#x27;, length=650))</pre></div></li></ul></div></li><li class='xr-section-item'><input id='section-8d2d7194-f47d-486c-b8e6-29152482dfd4' class='xr-section-summary-in' type='checkbox' disabled ><label for='section-8d2d7194-f47d-486c-b8e6-29152482dfd4' class='xr-section-summary'  title='Expand/collapse section'>Attributes: <span>(0)</span></label><div class='xr-section-inline-details'></div><div class='xr-section-details'><dl class='xr-attrs'></dl></div></li></ul></div></div>"
     },
     "execution_count": 8,
     "metadata": {},
     "output_type": "execute_result"
    }
   ],
   "source": [
    "cvs.line(source=scary_movie_session_gpu, x=scary_movie_session_gpu.columns[0], y=scary_movie_session_gpu.columns[1])"
   ],
   "metadata": {
    "collapsed": false,
    "ExecuteTime": {
     "start_time": "2023-04-06T05:22:11.687322Z",
     "end_time": "2023-04-06T05:22:12.507525Z"
    }
   }
  },
  {
   "cell_type": "code",
   "execution_count": 15,
   "outputs": [],
   "source": [
    "res = []"
   ],
   "metadata": {
    "collapsed": false,
    "ExecuteTime": {
     "start_time": "2023-04-06T03:31:48.583640Z",
     "end_time": "2023-04-06T03:31:48.585858Z"
    }
   }
  },
  {
   "cell_type": "code",
   "execution_count": 18,
   "metadata": {
    "ExecuteTime": {
     "start_time": "2023-04-06T03:32:13.540914Z",
     "end_time": "2023-04-06T03:32:13.544444Z"
    }
   },
   "outputs": [
    {
     "name": "stdout",
     "output_type": "stream",
     "text": [
      "Not yet!\n"
     ]
    }
   ],
   "source": [
    "if result.is_done():\n",
    "    \"\"\"\n",
    "        r: phasic component\n",
    "        p: sparse SMNA driver of phasic component\n",
    "        t: tonic component\n",
    "        l: coefficients of tonic spline\n",
    "        d: offset and slope of the linear drift term\n",
    "        e: model residuals\n",
    "        obj: value of objective function being minimized (eq 15 of paper)\n",
    "    \"\"\"\n",
    "    res = result.get_value()\n",
    "else:\n",
    "    print(\"Not yet!\")"
   ]
  },
  {
   "cell_type": "code",
   "execution_count": null,
   "metadata": {
    "ExecuteTime": {
     "end_time": "2023-04-01T17:15:14.386831Z",
     "start_time": "2023-04-01T17:15:14.379676Z"
    }
   },
   "outputs": [],
   "source": [
    "scary_movie_session_gpu[\"phasic\"] = res[0]"
   ]
  },
  {
   "cell_type": "code",
   "execution_count": null,
   "metadata": {
    "ExecuteTime": {
     "end_time": "2023-04-01T17:17:58.621394Z",
     "start_time": "2023-04-01T17:17:58.611037Z"
    }
   },
   "outputs": [],
   "source": [
    "kmeans = KMeans(n_clusters=2, n_init=\"auto\")"
   ]
  },
  {
   "cell_type": "code",
   "execution_count": null,
   "metadata": {
    "ExecuteTime": {
     "end_time": "2023-04-01T17:18:00.708167Z",
     "start_time": "2023-04-01T17:18:00.495981Z"
    }
   },
   "outputs": [],
   "source": [
    "scary_movie_session_gpu[\"label\"] = kmeans.fit_predict(scary_movie_session_gpu[[\"phasic\"]])"
   ]
  },
  {
   "cell_type": "code",
   "execution_count": null,
   "metadata": {},
   "outputs": [],
   "source": [
    "scary_movie_session_gpu.label = scary_movie_session_gpu.label.apply(bool)"
   ]
  }
 ],
 "metadata": {
  "kernelspec": {
   "display_name": "Python 3 (ipykernel)",
   "language": "python",
   "name": "python3"
  },
  "language_info": {
   "codemirror_mode": {
    "name": "ipython",
    "version": 3
   },
   "file_extension": ".py",
   "mimetype": "text/x-python",
   "name": "python",
   "nbconvert_exporter": "python",
   "pygments_lexer": "ipython3",
   "version": "3.10.6"
  }
 },
 "nbformat": 4,
 "nbformat_minor": 1
}
